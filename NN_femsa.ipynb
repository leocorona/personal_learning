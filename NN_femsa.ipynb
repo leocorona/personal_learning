{
 "cells": [
  {
   "cell_type": "code",
   "execution_count": 1,
   "metadata": {
    "collapsed": false
   },
   "outputs": [],
   "source": [
    "import pandas as pn\n",
    "import tempfile\n",
    "import tensorflow as tf\n",
    "from sklearn.cross_validation import train_test_split"
   ]
  },
  {
   "cell_type": "markdown",
   "metadata": {},
   "source": [
    "## Loading Pandas DF with the data\n"
   ]
  },
  {
   "cell_type": "code",
   "execution_count": 2,
   "metadata": {
    "collapsed": false
   },
   "outputs": [
    {
     "name": "stdout",
     "output_type": "stream",
     "text": [
      "<class 'pandas.core.frame.DataFrame'>\n",
      "Int64Index: 8649 entries, 40 to 45806\n",
      "Data columns (total 18 columns):\n",
      "client_id               8649 non-null object\n",
      "client_role_des         8649 non-null object\n",
      "id_movil                8649 non-null object\n",
      "stop                    8649 non-null object\n",
      "stop_time               8649 non-null float64\n",
      "order_cfs               8649 non-null float64\n",
      "delivered               8649 non-null float64\n",
      "fechahora               8649 non-null datetime64[ns]\n",
      "client_distance         8649 non-null float64\n",
      "total_distance          8649 non-null float64\n",
      "head_count              8649 non-null int64\n",
      "stop_clients            8649 non-null int64\n",
      "op_travel_time          8649 non-null float64\n",
      "fecha                   8649 non-null object\n",
      "time                    8649 non-null object\n",
      "op_total_travel_time    8649 non-null float64\n",
      "slope                   8649 non-null float64\n",
      "ATPC                    8649 non-null float64\n",
      "dtypes: datetime64[ns](1), float64(9), int64(2), object(6)\n",
      "memory usage: 1.3+ MB\n"
     ]
    },
    {
     "data": {
      "text/plain": [
       "62"
      ]
     },
     "execution_count": 2,
     "metadata": {},
     "output_type": "execute_result"
    }
   ],
   "source": [
    "df = pn.read_pickle('/home/leopoloco/Documents/INTELIMETRICA/df_clean2_femsa')\n",
    "df.info()\n",
    "df.time = df.time.astype('string')\n",
    "len(df.stop.unique())"
   ]
  },
  {
   "cell_type": "markdown",
   "metadata": {},
   "source": [
    "### Using the train_test_split function to randomly create our train and test subsets."
   ]
  },
  {
   "cell_type": "code",
   "execution_count": 3,
   "metadata": {
    "collapsed": false
   },
   "outputs": [],
   "source": [
    "X = df[['client_id', 'client_role_des', 'id_movil', 'stop', 'stop_time', 'order_cfs', 'delivered', 'fecha', 'time', 'client_distance', 'total_distance', 'head_count', 'stop_clients', 'op_travel_time', 'op_total_travel_time']]\n",
    "y = df[['ATPC']]\n",
    "X_train, X_test, y_train, y_test = train_test_split(X, y, test_size=0.33, random_state=42)\n",
    "df_train = X_train.join(y_train)\n",
    "df_test = X_test.join(y_test)"
   ]
  },
  {
   "cell_type": "markdown",
   "metadata": {},
   "source": [
    "#### Defining the categorical and continuous columns"
   ]
  },
  {
   "cell_type": "code",
   "execution_count": 4,
   "metadata": {
    "collapsed": true
   },
   "outputs": [],
   "source": [
    "CATEGORICAL_COLUMNS = ['client_id', 'client_role_des', 'id_movil', 'stop', 'fecha', 'time']\n",
    "CONTINUOUS_COLUMNS = ['stop_time', 'order_cfs', 'delivered', 'client_distance', 'total_distance', 'head_count', 'stop_clients', 'op_travel_time', 'op_total_travel_time']\n",
    "LABEL_COLUMN = 'ATPC'"
   ]
  },
  {
   "cell_type": "markdown",
   "metadata": {},
   "source": [
    "#### Converting data into Tensors functions"
   ]
  },
  {
   "cell_type": "code",
   "execution_count": 5,
   "metadata": {
    "collapsed": true
   },
   "outputs": [],
   "source": [
    "def input_fn(df):\n",
    "  # Creates a dictionary mapping from each continuous feature column name (k) to\n",
    "  # the values of that column stored in a constant Tensor.\n",
    "  continuous_cols = {k: tf.constant(df[k].values)\n",
    "                     for k in CONTINUOUS_COLUMNS}\n",
    "  # Creates a dictionary mapping from each categorical feature column name (k)\n",
    "  # to the values of that column stored in a tf.SparseTensor.\n",
    "  categorical_cols = {k: tf.SparseTensor(\n",
    "      indices=[[i, 0] for i in range(df[k].size)],\n",
    "      values=df[k].values,\n",
    "      shape=[df[k].size, 1])\n",
    "                      for k in CATEGORICAL_COLUMNS}\n",
    "  # Merges the two dictionaries into one.\n",
    "  feature_cols = dict(continuous_cols.items() + categorical_cols.items())\n",
    "  # Converts the label column into a constant Tensor.\n",
    "  label = tf.constant(df[LABEL_COLUMN].values)\n",
    "  # Returns the feature columns and the label.\n",
    "  return feature_cols, label\n",
    "\n",
    "def train_input_fn():\n",
    "  return input_fn(df_train)\n",
    "\n",
    "def eval_input_fn():\n",
    "  return input_fn(df_test)"
   ]
  },
  {
   "cell_type": "markdown",
   "metadata": {},
   "source": [
    "#### Basing categorical feature columns"
   ]
  },
  {
   "cell_type": "code",
   "execution_count": 6,
   "metadata": {
    "collapsed": true
   },
   "outputs": [],
   "source": [
    "client_id = tf.contrib.layers.sparse_column_with_hash_bucket(\"client_id\", hash_bucket_size=5000)\n",
    "client_role_des = tf.contrib.layers.sparse_column_with_hash_bucket(\"client_role_des\", hash_bucket_size=100)\n",
    "id_movil = tf.contrib.layers.sparse_column_with_hash_bucket(\"id_movil\", hash_bucket_size=100)\n",
    "stop = tf.contrib.layers.sparse_column_with_hash_bucket(\"stop\", hash_bucket_size=100)\n",
    "fecha = tf.contrib.layers.sparse_column_with_hash_bucket(\"fecha\", hash_bucket_size=100)\n",
    "time = tf.contrib.layers.sparse_column_with_hash_bucket(\"time\", hash_bucket_size=5000)"
   ]
  },
  {
   "cell_type": "markdown",
   "metadata": {},
   "source": [
    "#### Basing Continuous Feature Columns"
   ]
  },
  {
   "cell_type": "code",
   "execution_count": 7,
   "metadata": {
    "collapsed": true
   },
   "outputs": [],
   "source": [
    "stop_time = tf.contrib.layers.real_valued_column(\"stop_time\")\n",
    "order_cfs = tf.contrib.layers.real_valued_column(\"order_cfs\")\n",
    "delivered = tf.contrib.layers.real_valued_column(\"delivered\")\n",
    "client_distance = tf.contrib.layers.real_valued_column(\"client_distance\")\n",
    "total_distance = tf.contrib.layers.real_valued_column(\"total_distance\")\n",
    "head_count = tf.contrib.layers.real_valued_column(\"head_count\")\n",
    "stop_clients = tf.contrib.layers.real_valued_column(\"stop_clients\")\n",
    "op_travel_time = tf.contrib.layers.real_valued_column(\"op_travel_time\")\n",
    "op_total_travel_time = tf.contrib.layers.real_valued_column(\"op_total_travel_time\")"
   ]
  },
  {
   "cell_type": "markdown",
   "metadata": {},
   "source": [
    "#### Continuous features bucketization"
   ]
  },
  {
   "cell_type": "code",
   "execution_count": 8,
   "metadata": {
    "collapsed": true
   },
   "outputs": [],
   "source": [
    "orders_buckets = tf.contrib.layers.bucketized_column(order_cfs, boundaries=[2, 4, 6, 8, 10, 12, 24, 36])"
   ]
  },
  {
   "cell_type": "markdown",
   "metadata": {},
   "source": [
    "#### Defining crossed columns"
   ]
  },
  {
   "cell_type": "code",
   "execution_count": 9,
   "metadata": {
    "collapsed": true
   },
   "outputs": [],
   "source": [
    "client_role_x_order = tf.contrib.layers.crossed_column([client_role_des, orders_buckets], hash_bucket_size=int(1e4))"
   ]
  },
  {
   "cell_type": "code",
   "execution_count": 10,
   "metadata": {
    "collapsed": true
   },
   "outputs": [],
   "source": [
    "id_movil_x_client_role_x_order = tf.contrib.layers.crossed_column([id_movil, client_role_x_order], hash_bucket_size=int(1e6))"
   ]
  },
  {
   "cell_type": "markdown",
   "metadata": {},
   "source": [
    "#### Defining the linear regressor model"
   ]
  },
  {
   "cell_type": "code",
   "execution_count": 11,
   "metadata": {
    "collapsed": false
   },
   "outputs": [],
   "source": [
    "model_dir = tempfile.mkdtemp()\n",
    "m = tf.contrib.learn.LinearRegressor(feature_columns=[client_id, client_role_des, id_movil, stop, fecha, time, stop_time, order_cfs, delivered, client_distance, total_distance, head_count, stop_clients, op_travel_time, op_total_travel_time, orders_buckets, client_role_x_order, id_movil_x_client_role_x_order],  optimizer=tf.train.FtrlOptimizer(learning_rate=0.1,\n",
    "    l1_regularization_strength=1.0,\n",
    "    l2_regularization_strength=1.0), model_dir=model_dir)"
   ]
  },
  {
   "cell_type": "markdown",
   "metadata": {},
   "source": [
    "#### Training the model"
   ]
  },
  {
   "cell_type": "code",
   "execution_count": 12,
   "metadata": {
    "collapsed": false
   },
   "outputs": [
    {
     "name": "stderr",
     "output_type": "stream",
     "text": [
      "WARNING:tensorflow:Setting feature info to {'delivered': TensorSignature(dtype=tf.float64, shape=TensorShape([Dimension(5794)]), is_sparse=False), 'client_role_des': TensorSignature(dtype=tf.string, shape=None, is_sparse=True), 'client_distance': TensorSignature(dtype=tf.float64, shape=TensorShape([Dimension(5794)]), is_sparse=False), 'order_cfs': TensorSignature(dtype=tf.float64, shape=TensorShape([Dimension(5794)]), is_sparse=False), 'stop_clients': TensorSignature(dtype=tf.int64, shape=TensorShape([Dimension(5794)]), is_sparse=False), 'fecha': TensorSignature(dtype=tf.string, shape=None, is_sparse=True), 'stop': TensorSignature(dtype=tf.string, shape=None, is_sparse=True), 'head_count': TensorSignature(dtype=tf.int64, shape=TensorShape([Dimension(5794)]), is_sparse=False), 'id_movil': TensorSignature(dtype=tf.string, shape=None, is_sparse=True), 'total_distance': TensorSignature(dtype=tf.float64, shape=TensorShape([Dimension(5794)]), is_sparse=False), 'stop_time': TensorSignature(dtype=tf.float64, shape=TensorShape([Dimension(5794)]), is_sparse=False), 'client_id': TensorSignature(dtype=tf.string, shape=None, is_sparse=True), 'time': TensorSignature(dtype=tf.string, shape=None, is_sparse=True), 'op_total_travel_time': TensorSignature(dtype=tf.float64, shape=TensorShape([Dimension(5794)]), is_sparse=False), 'op_travel_time': TensorSignature(dtype=tf.float64, shape=TensorShape([Dimension(5794)]), is_sparse=False)}\n",
      "WARNING:tensorflow:Setting targets info to TensorSignature(dtype=tf.float64, shape=TensorShape([Dimension(5794)]), is_sparse=False)\n"
     ]
    },
    {
     "data": {
      "text/plain": [
       "LinearRegressor()"
      ]
     },
     "execution_count": 12,
     "metadata": {},
     "output_type": "execute_result"
    }
   ],
   "source": [
    "m.fit(input_fn=train_input_fn, steps=200)"
   ]
  },
  {
   "cell_type": "code",
   "execution_count": 13,
   "metadata": {
    "collapsed": false
   },
   "outputs": [
    {
     "name": "stderr",
     "output_type": "stream",
     "text": [
      "WARNING:tensorflow:Given features: {'delivered': <tf.Tensor 'Const_2:0' shape=(2855,) dtype=float64>, 'client_role_des': <tensorflow.python.framework.ops.SparseTensor object at 0x7f266c0d7890>, 'client_distance': <tf.Tensor 'Const_3:0' shape=(2855,) dtype=float64>, 'order_cfs': <tf.Tensor 'Const_1:0' shape=(2855,) dtype=float64>, 'stop_clients': <tf.Tensor 'Const_6:0' shape=(2855,) dtype=int64>, 'fecha': <tensorflow.python.framework.ops.SparseTensor object at 0x7f266c74dbd0>, 'stop': <tensorflow.python.framework.ops.SparseTensor object at 0x7f266c0d7910>, 'head_count': <tf.Tensor 'Const_5:0' shape=(2855,) dtype=int64>, 'id_movil': <tensorflow.python.framework.ops.SparseTensor object at 0x7f266e8384d0>, 'client_id': <tensorflow.python.framework.ops.SparseTensor object at 0x7f266dbbe6d0>, 'stop_time': <tf.Tensor 'Const:0' shape=(2855,) dtype=float64>, 'total_distance': <tf.Tensor 'Const_4:0' shape=(2855,) dtype=float64>, 'time': <tensorflow.python.framework.ops.SparseTensor object at 0x7f263dffd690>, 'op_total_travel_time': <tf.Tensor 'Const_8:0' shape=(2855,) dtype=float64>, 'op_travel_time': <tf.Tensor 'Const_7:0' shape=(2855,) dtype=float64>}, required signatures: {'delivered': TensorSignature(dtype=tf.float64, shape=TensorShape([Dimension(5794)]), is_sparse=False), 'client_role_des': TensorSignature(dtype=tf.string, shape=None, is_sparse=True), 'client_distance': TensorSignature(dtype=tf.float64, shape=TensorShape([Dimension(5794)]), is_sparse=False), 'order_cfs': TensorSignature(dtype=tf.float64, shape=TensorShape([Dimension(5794)]), is_sparse=False), 'stop_clients': TensorSignature(dtype=tf.int64, shape=TensorShape([Dimension(5794)]), is_sparse=False), 'fecha': TensorSignature(dtype=tf.string, shape=None, is_sparse=True), 'stop': TensorSignature(dtype=tf.string, shape=None, is_sparse=True), 'head_count': TensorSignature(dtype=tf.int64, shape=TensorShape([Dimension(5794)]), is_sparse=False), 'id_movil': TensorSignature(dtype=tf.string, shape=None, is_sparse=True), 'total_distance': TensorSignature(dtype=tf.float64, shape=TensorShape([Dimension(5794)]), is_sparse=False), 'stop_time': TensorSignature(dtype=tf.float64, shape=TensorShape([Dimension(5794)]), is_sparse=False), 'client_id': TensorSignature(dtype=tf.string, shape=None, is_sparse=True), 'time': TensorSignature(dtype=tf.string, shape=None, is_sparse=True), 'op_total_travel_time': TensorSignature(dtype=tf.float64, shape=TensorShape([Dimension(5794)]), is_sparse=False), 'op_travel_time': TensorSignature(dtype=tf.float64, shape=TensorShape([Dimension(5794)]), is_sparse=False)}.\n",
      "WARNING:tensorflow:Given targets: Tensor(\"Const_9:0\", shape=(2855,), dtype=float64), required signatures: TensorSignature(dtype=tf.float64, shape=TensorShape([Dimension(5794)]), is_sparse=False).\n"
     ]
    },
    {
     "name": "stdout",
     "output_type": "stream",
     "text": [
      "global_step: 200\n",
      "loss: 97.9187\n"
     ]
    }
   ],
   "source": [
    "results = m.evaluate(input_fn=eval_input_fn, steps=1)\n",
    "for key in sorted(results):\n",
    "    print \"%s: %s\" % (key, results[key])"
   ]
  },
  {
   "cell_type": "code",
   "execution_count": 14,
   "metadata": {
    "collapsed": false
   },
   "outputs": [
    {
     "data": {
      "text/plain": [
       "{'global_step': 200, 'loss': 97.918739}"
      ]
     },
     "execution_count": 14,
     "metadata": {},
     "output_type": "execute_result"
    }
   ],
   "source": [
    "results"
   ]
  },
  {
   "cell_type": "code",
   "execution_count": null,
   "metadata": {
    "collapsed": true
   },
   "outputs": [],
   "source": []
  }
 ],
 "metadata": {
  "kernelspec": {
   "display_name": "Python 2",
   "language": "python",
   "name": "python2"
  },
  "language_info": {
   "codemirror_mode": {
    "name": "ipython",
    "version": 2
   },
   "file_extension": ".py",
   "mimetype": "text/x-python",
   "name": "python",
   "nbconvert_exporter": "python",
   "pygments_lexer": "ipython2",
   "version": "2.7.12"
  }
 },
 "nbformat": 4,
 "nbformat_minor": 1
}
